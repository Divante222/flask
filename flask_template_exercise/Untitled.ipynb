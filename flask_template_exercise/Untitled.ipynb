{
 "cells": [
  {
   "cell_type": "code",
   "execution_count": 17,
   "id": "7eb55c52",
   "metadata": {},
   "outputs": [],
   "source": [
    "from flask import render_template\n",
    "from wtforms import (StringField, BooleanField, DateTimeField, \n",
    "RadioField, SelectField, TextAreaField, SubmitField)\n",
    "import inspect"
   ]
  },
  {
   "cell_type": "code",
   "execution_count": 15,
   "id": "a9dfdeb7",
   "metadata": {
    "scrolled": true
   },
   "outputs": [
    {
     "data": {
      "text/plain": [
       "['__add__',\n",
       " '__class__',\n",
       " '__class_getitem__',\n",
       " '__contains__',\n",
       " '__delattr__',\n",
       " '__dir__',\n",
       " '__doc__',\n",
       " '__eq__',\n",
       " '__format__',\n",
       " '__ge__',\n",
       " '__getattribute__',\n",
       " '__getitem__',\n",
       " '__getnewargs__',\n",
       " '__gt__',\n",
       " '__hash__',\n",
       " '__init__',\n",
       " '__init_subclass__',\n",
       " '__iter__',\n",
       " '__le__',\n",
       " '__len__',\n",
       " '__lt__',\n",
       " '__mul__',\n",
       " '__ne__',\n",
       " '__new__',\n",
       " '__reduce__',\n",
       " '__reduce_ex__',\n",
       " '__repr__',\n",
       " '__rmul__',\n",
       " '__setattr__',\n",
       " '__sizeof__',\n",
       " '__str__',\n",
       " '__subclasshook__',\n",
       " 'count',\n",
       " 'index']"
      ]
     },
     "execution_count": 15,
     "metadata": {},
     "output_type": "execute_result"
    }
   ],
   "source": [
    "dir(StringField.errors)"
   ]
  },
  {
   "cell_type": "code",
   "execution_count": 18,
   "id": "8e739316",
   "metadata": {},
   "outputs": [
    {
     "name": "stdout",
     "output_type": "stream",
     "text": [
      "class StringField(Field):\n",
      "    \"\"\"\n",
      "    This field is the base for most of the more complicated fields, and\n",
      "    represents an ``<input type=\"text\">``.\n",
      "    \"\"\"\n",
      "\n",
      "    widget = widgets.TextInput()\n",
      "\n",
      "    def process_formdata(self, valuelist):\n",
      "        if valuelist:\n",
      "            self.data = valuelist[0]\n",
      "\n",
      "    def _value(self):\n",
      "        return str(self.data) if self.data is not None else \"\"\n",
      "\n"
     ]
    }
   ],
   "source": [
    "source_code = inspect.getsource(StringField)\n",
    "print(source_code)"
   ]
  },
  {
   "cell_type": "code",
   "execution_count": null,
   "id": "592fa15e",
   "metadata": {},
   "outputs": [],
   "source": []
  }
 ],
 "metadata": {
  "kernelspec": {
   "display_name": "Python 3 (ipykernel)",
   "language": "python",
   "name": "python3"
  },
  "language_info": {
   "codemirror_mode": {
    "name": "ipython",
    "version": 3
   },
   "file_extension": ".py",
   "mimetype": "text/x-python",
   "name": "python",
   "nbconvert_exporter": "python",
   "pygments_lexer": "ipython3",
   "version": "3.9.17"
  }
 },
 "nbformat": 4,
 "nbformat_minor": 5
}
